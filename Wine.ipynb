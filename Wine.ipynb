{
 "cells": [
  {
   "cell_type": "code",
   "execution_count": 106,
   "id": "69be5125",
   "metadata": {},
   "outputs": [],
   "source": [
    " import pandas as pd\n",
    "import numpy as np"
   ]
  },
  {
   "cell_type": "code",
   "execution_count": 107,
   "id": "969ebd04",
   "metadata": {},
   "outputs": [
    {
     "data": {
      "text/html": [
       "<div>\n",
       "<style scoped>\n",
       "    .dataframe tbody tr th:only-of-type {\n",
       "        vertical-align: middle;\n",
       "    }\n",
       "\n",
       "    .dataframe tbody tr th {\n",
       "        vertical-align: top;\n",
       "    }\n",
       "\n",
       "    .dataframe thead th {\n",
       "        text-align: right;\n",
       "    }\n",
       "</style>\n",
       "<table border=\"1\" class=\"dataframe\">\n",
       "  <thead>\n",
       "    <tr style=\"text-align: right;\">\n",
       "      <th></th>\n",
       "      <th>Wine</th>\n",
       "      <th>Alcohol</th>\n",
       "      <th>Malic.acid</th>\n",
       "      <th>Ash</th>\n",
       "      <th>Acl</th>\n",
       "      <th>Mg</th>\n",
       "      <th>Phenols</th>\n",
       "      <th>Flavanoids</th>\n",
       "      <th>Nonflavanoid.phenols</th>\n",
       "      <th>Proanth</th>\n",
       "      <th>Color.int</th>\n",
       "      <th>Hue</th>\n",
       "      <th>OD</th>\n",
       "      <th>Proline</th>\n",
       "    </tr>\n",
       "  </thead>\n",
       "  <tbody>\n",
       "    <tr>\n",
       "      <th>0</th>\n",
       "      <td>1</td>\n",
       "      <td>14.23</td>\n",
       "      <td>1.71</td>\n",
       "      <td>2.43</td>\n",
       "      <td>15.6</td>\n",
       "      <td>127</td>\n",
       "      <td>2.80</td>\n",
       "      <td>3.06</td>\n",
       "      <td>0.28</td>\n",
       "      <td>2.29</td>\n",
       "      <td>5.64</td>\n",
       "      <td>1.04</td>\n",
       "      <td>3.92</td>\n",
       "      <td>1065</td>\n",
       "    </tr>\n",
       "    <tr>\n",
       "      <th>1</th>\n",
       "      <td>1</td>\n",
       "      <td>13.20</td>\n",
       "      <td>1.78</td>\n",
       "      <td>2.14</td>\n",
       "      <td>11.2</td>\n",
       "      <td>100</td>\n",
       "      <td>2.65</td>\n",
       "      <td>2.76</td>\n",
       "      <td>0.26</td>\n",
       "      <td>1.28</td>\n",
       "      <td>4.38</td>\n",
       "      <td>1.05</td>\n",
       "      <td>3.40</td>\n",
       "      <td>1050</td>\n",
       "    </tr>\n",
       "    <tr>\n",
       "      <th>2</th>\n",
       "      <td>1</td>\n",
       "      <td>13.16</td>\n",
       "      <td>2.36</td>\n",
       "      <td>2.67</td>\n",
       "      <td>18.6</td>\n",
       "      <td>101</td>\n",
       "      <td>2.80</td>\n",
       "      <td>3.24</td>\n",
       "      <td>0.30</td>\n",
       "      <td>2.81</td>\n",
       "      <td>5.68</td>\n",
       "      <td>1.03</td>\n",
       "      <td>3.17</td>\n",
       "      <td>1185</td>\n",
       "    </tr>\n",
       "    <tr>\n",
       "      <th>3</th>\n",
       "      <td>1</td>\n",
       "      <td>14.37</td>\n",
       "      <td>1.95</td>\n",
       "      <td>2.50</td>\n",
       "      <td>16.8</td>\n",
       "      <td>113</td>\n",
       "      <td>3.85</td>\n",
       "      <td>3.49</td>\n",
       "      <td>0.24</td>\n",
       "      <td>2.18</td>\n",
       "      <td>7.80</td>\n",
       "      <td>0.86</td>\n",
       "      <td>3.45</td>\n",
       "      <td>1480</td>\n",
       "    </tr>\n",
       "    <tr>\n",
       "      <th>4</th>\n",
       "      <td>1</td>\n",
       "      <td>13.24</td>\n",
       "      <td>2.59</td>\n",
       "      <td>2.87</td>\n",
       "      <td>21.0</td>\n",
       "      <td>118</td>\n",
       "      <td>2.80</td>\n",
       "      <td>2.69</td>\n",
       "      <td>0.39</td>\n",
       "      <td>1.82</td>\n",
       "      <td>4.32</td>\n",
       "      <td>1.04</td>\n",
       "      <td>2.93</td>\n",
       "      <td>735</td>\n",
       "    </tr>\n",
       "    <tr>\n",
       "      <th>...</th>\n",
       "      <td>...</td>\n",
       "      <td>...</td>\n",
       "      <td>...</td>\n",
       "      <td>...</td>\n",
       "      <td>...</td>\n",
       "      <td>...</td>\n",
       "      <td>...</td>\n",
       "      <td>...</td>\n",
       "      <td>...</td>\n",
       "      <td>...</td>\n",
       "      <td>...</td>\n",
       "      <td>...</td>\n",
       "      <td>...</td>\n",
       "      <td>...</td>\n",
       "    </tr>\n",
       "    <tr>\n",
       "      <th>173</th>\n",
       "      <td>3</td>\n",
       "      <td>13.71</td>\n",
       "      <td>5.65</td>\n",
       "      <td>2.45</td>\n",
       "      <td>20.5</td>\n",
       "      <td>95</td>\n",
       "      <td>1.68</td>\n",
       "      <td>0.61</td>\n",
       "      <td>0.52</td>\n",
       "      <td>1.06</td>\n",
       "      <td>7.70</td>\n",
       "      <td>0.64</td>\n",
       "      <td>1.74</td>\n",
       "      <td>740</td>\n",
       "    </tr>\n",
       "    <tr>\n",
       "      <th>174</th>\n",
       "      <td>3</td>\n",
       "      <td>13.40</td>\n",
       "      <td>3.91</td>\n",
       "      <td>2.48</td>\n",
       "      <td>23.0</td>\n",
       "      <td>102</td>\n",
       "      <td>1.80</td>\n",
       "      <td>0.75</td>\n",
       "      <td>0.43</td>\n",
       "      <td>1.41</td>\n",
       "      <td>7.30</td>\n",
       "      <td>0.70</td>\n",
       "      <td>1.56</td>\n",
       "      <td>750</td>\n",
       "    </tr>\n",
       "    <tr>\n",
       "      <th>175</th>\n",
       "      <td>3</td>\n",
       "      <td>13.27</td>\n",
       "      <td>4.28</td>\n",
       "      <td>2.26</td>\n",
       "      <td>20.0</td>\n",
       "      <td>120</td>\n",
       "      <td>1.59</td>\n",
       "      <td>0.69</td>\n",
       "      <td>0.43</td>\n",
       "      <td>1.35</td>\n",
       "      <td>10.20</td>\n",
       "      <td>0.59</td>\n",
       "      <td>1.56</td>\n",
       "      <td>835</td>\n",
       "    </tr>\n",
       "    <tr>\n",
       "      <th>176</th>\n",
       "      <td>3</td>\n",
       "      <td>13.17</td>\n",
       "      <td>2.59</td>\n",
       "      <td>2.37</td>\n",
       "      <td>20.0</td>\n",
       "      <td>120</td>\n",
       "      <td>1.65</td>\n",
       "      <td>0.68</td>\n",
       "      <td>0.53</td>\n",
       "      <td>1.46</td>\n",
       "      <td>9.30</td>\n",
       "      <td>0.60</td>\n",
       "      <td>1.62</td>\n",
       "      <td>840</td>\n",
       "    </tr>\n",
       "    <tr>\n",
       "      <th>177</th>\n",
       "      <td>3</td>\n",
       "      <td>14.13</td>\n",
       "      <td>4.10</td>\n",
       "      <td>2.74</td>\n",
       "      <td>24.5</td>\n",
       "      <td>96</td>\n",
       "      <td>2.05</td>\n",
       "      <td>0.76</td>\n",
       "      <td>0.56</td>\n",
       "      <td>1.35</td>\n",
       "      <td>9.20</td>\n",
       "      <td>0.61</td>\n",
       "      <td>1.60</td>\n",
       "      <td>560</td>\n",
       "    </tr>\n",
       "  </tbody>\n",
       "</table>\n",
       "<p>178 rows × 14 columns</p>\n",
       "</div>"
      ],
      "text/plain": [
       "     Wine  Alcohol  Malic.acid   Ash   Acl   Mg  Phenols  Flavanoids  \\\n",
       "0       1    14.23        1.71  2.43  15.6  127     2.80        3.06   \n",
       "1       1    13.20        1.78  2.14  11.2  100     2.65        2.76   \n",
       "2       1    13.16        2.36  2.67  18.6  101     2.80        3.24   \n",
       "3       1    14.37        1.95  2.50  16.8  113     3.85        3.49   \n",
       "4       1    13.24        2.59  2.87  21.0  118     2.80        2.69   \n",
       "..    ...      ...         ...   ...   ...  ...      ...         ...   \n",
       "173     3    13.71        5.65  2.45  20.5   95     1.68        0.61   \n",
       "174     3    13.40        3.91  2.48  23.0  102     1.80        0.75   \n",
       "175     3    13.27        4.28  2.26  20.0  120     1.59        0.69   \n",
       "176     3    13.17        2.59  2.37  20.0  120     1.65        0.68   \n",
       "177     3    14.13        4.10  2.74  24.5   96     2.05        0.76   \n",
       "\n",
       "     Nonflavanoid.phenols  Proanth  Color.int   Hue    OD  Proline  \n",
       "0                    0.28     2.29       5.64  1.04  3.92     1065  \n",
       "1                    0.26     1.28       4.38  1.05  3.40     1050  \n",
       "2                    0.30     2.81       5.68  1.03  3.17     1185  \n",
       "3                    0.24     2.18       7.80  0.86  3.45     1480  \n",
       "4                    0.39     1.82       4.32  1.04  2.93      735  \n",
       "..                    ...      ...        ...   ...   ...      ...  \n",
       "173                  0.52     1.06       7.70  0.64  1.74      740  \n",
       "174                  0.43     1.41       7.30  0.70  1.56      750  \n",
       "175                  0.43     1.35      10.20  0.59  1.56      835  \n",
       "176                  0.53     1.46       9.30  0.60  1.62      840  \n",
       "177                  0.56     1.35       9.20  0.61  1.60      560  \n",
       "\n",
       "[178 rows x 14 columns]"
      ]
     },
     "execution_count": 107,
     "metadata": {},
     "output_type": "execute_result"
    }
   ],
   "source": [
    "df = pd.read_csv('wine.csv')\n",
    "df"
   ]
  },
  {
   "cell_type": "markdown",
   "id": "0ac0e2fe",
   "metadata": {},
   "source": [
    "### Data Cleaning"
   ]
  },
  {
   "cell_type": "code",
   "execution_count": 108,
   "id": "e9bad883",
   "metadata": {},
   "outputs": [
    {
     "data": {
      "text/plain": [
       "Wine                      int64\n",
       "Alcohol                 float64\n",
       "Malic.acid              float64\n",
       "Ash                     float64\n",
       "Acl                     float64\n",
       "Mg                        int64\n",
       "Phenols                 float64\n",
       "Flavanoids              float64\n",
       "Nonflavanoid.phenols    float64\n",
       "Proanth                 float64\n",
       "Color.int               float64\n",
       "Hue                     float64\n",
       "OD                      float64\n",
       "Proline                   int64\n",
       "dtype: object"
      ]
     },
     "execution_count": 108,
     "metadata": {},
     "output_type": "execute_result"
    }
   ],
   "source": [
    "df.dtypes"
   ]
  },
  {
   "cell_type": "markdown",
   "id": "51ed847a",
   "metadata": {},
   "source": [
    "##### **_Missing Value_**"
   ]
  },
  {
   "cell_type": "code",
   "execution_count": 109,
   "id": "8d07db35",
   "metadata": {},
   "outputs": [
    {
     "name": "stdout",
     "output_type": "stream",
     "text": [
      "Wine                    0\n",
      "Alcohol                 0\n",
      "Malic.acid              0\n",
      "Ash                     0\n",
      "Acl                     0\n",
      "Mg                      0\n",
      "Phenols                 0\n",
      "Flavanoids              0\n",
      "Nonflavanoid.phenols    0\n",
      "Proanth                 0\n",
      "Color.int               0\n",
      "Hue                     0\n",
      "OD                      0\n",
      "Proline                 0\n",
      "dtype: int64\n"
     ]
    }
   ],
   "source": [
    "# hitung jumlah missing value pada setiap kolom\n",
    "missing_values_count = df.isnull().sum()\n",
    "\n",
    "# tampilkan jumlah missing value pada setiap kolom\n",
    "print(missing_values_count)"
   ]
  },
  {
   "cell_type": "markdown",
   "id": "cac625e6",
   "metadata": {},
   "source": [
    "##### **_Outlier_**"
   ]
  },
  {
   "cell_type": "code",
   "execution_count": 110,
   "id": "a6d6394f",
   "metadata": {},
   "outputs": [
    {
     "name": "stdout",
     "output_type": "stream",
     "text": [
      "Jumlah outlier pada tiap kolom:\n",
      "\n",
      "Wine                    0\n",
      "Alcohol                 0\n",
      "Malic.acid              3\n",
      "Ash                     3\n",
      "Acl                     4\n",
      "Mg                      4\n",
      "Phenols                 0\n",
      "Flavanoids              0\n",
      "Nonflavanoid.phenols    0\n",
      "Proanth                 2\n",
      "Color.int               4\n",
      "Hue                     1\n",
      "OD                      0\n",
      "Proline                 0\n",
      "dtype: int64\n"
     ]
    }
   ],
   "source": [
    "# Menentukan batas atas dan batas bawah menggunakan metode IQR\n",
    "Q1 = df.quantile(0.25)\n",
    "Q3 = df.quantile(0.75)\n",
    "IQR = Q3 - Q1\n",
    "lower_bound = Q1 - 1.5 * IQR\n",
    "upper_bound = Q3 + 1.5 * IQR\n",
    "\n",
    "# Menghitung jumlah outlier pada setiap kolom\n",
    "outlier_counts = ((df < lower_bound) | (df > upper_bound)).sum()\n",
    "\n",
    "print(\"Jumlah outlier pada tiap kolom:\\n\")\n",
    "print(outlier_counts)"
   ]
  },
  {
   "cell_type": "code",
   "execution_count": 111,
   "id": "f13fd030",
   "metadata": {},
   "outputs": [],
   "source": [
    "# hitung nilai batas atas dan bawah\n",
    "Q1 = df['Malic.acid'].quantile(0.25)\n",
    "Q3 = df['Malic.acid'].quantile(0.75)\n",
    "IQR = Q3 - Q1\n",
    "lower_bound = Q1 - 1.5 * IQR\n",
    "upper_bound = Q3 + 1.5 * IQR\n",
    "\n",
    "# atasi outlier dengan mengganti nilai di luar batas dengan nilai batas\n",
    "df['Malic.acid'] = df['Malic.acid'].clip(lower=lower_bound, upper=upper_bound)"
   ]
  },
  {
   "cell_type": "code",
   "execution_count": 112,
   "id": "0d94667e",
   "metadata": {},
   "outputs": [],
   "source": [
    "# hitung nilai batas atas dan bawah\n",
    "Q1 = df['Ash'].quantile(0.25)\n",
    "Q3 = df['Ash'].quantile(0.75)\n",
    "IQR = Q3 - Q1\n",
    "lower_bound = Q1 - 1.5 * IQR\n",
    "upper_bound = Q3 + 1.5 * IQR\n",
    "\n",
    "# atasi outlier dengan mengganti nilai di luar batas dengan nilai batas\n",
    "df['Ash'] = df['Ash'].clip(lower=lower_bound, upper=upper_bound)"
   ]
  },
  {
   "cell_type": "code",
   "execution_count": 113,
   "id": "ef882edb",
   "metadata": {},
   "outputs": [],
   "source": [
    "# hitung nilai batas atas dan bawah\n",
    "Q1 = df['Acl'].quantile(0.25)\n",
    "Q3 = df['Acl'].quantile(0.75)\n",
    "IQR = Q3 - Q1\n",
    "lower_bound = Q1 - 1.5 * IQR\n",
    "upper_bound = Q3 + 1.5 * IQR\n",
    "\n",
    "# atasi outlier dengan mengganti nilai di luar batas dengan nilai batas\n",
    "df['Acl'] = df['Acl'].clip(lower=lower_bound, upper=upper_bound)"
   ]
  },
  {
   "cell_type": "code",
   "execution_count": 114,
   "id": "b37aa72d",
   "metadata": {},
   "outputs": [],
   "source": [
    "# hitung nilai batas atas dan bawah\n",
    "Q1 = df['Mg'].quantile(0.25)\n",
    "Q3 = df['Mg'].quantile(0.75)\n",
    "IQR = Q3 - Q1\n",
    "lower_bound = Q1 - 1.5 * IQR\n",
    "upper_bound = Q3 + 1.5 * IQR\n",
    "\n",
    "# atasi outlier dengan mengganti nilai di luar batas dengan nilai batas\n",
    "df['Mg'] = df['Mg'].clip(lower=lower_bound, upper=upper_bound)"
   ]
  },
  {
   "cell_type": "code",
   "execution_count": 115,
   "id": "05aa29b3",
   "metadata": {},
   "outputs": [],
   "source": [
    "# hitung nilai batas atas dan bawah\n",
    "Q1 = df['Proanth'].quantile(0.25)\n",
    "Q3 = df['Proanth'].quantile(0.75)\n",
    "IQR = Q3 - Q1\n",
    "lower_bound = Q1 - 1.5 * IQR\n",
    "upper_bound = Q3 + 1.5 * IQR\n",
    "\n",
    "# atasi outlier dengan mengganti nilai di luar batas dengan nilai batas\n",
    "df['Proanth'] = df['Proanth'].clip(lower=lower_bound, upper=upper_bound)"
   ]
  },
  {
   "cell_type": "code",
   "execution_count": 116,
   "id": "fd1e6593",
   "metadata": {},
   "outputs": [],
   "source": [
    "# hitung nilai batas atas dan bawah\n",
    "Q1 = df['Color.int'].quantile(0.25)\n",
    "Q3 = df['Color.int'].quantile(0.75)\n",
    "IQR = Q3 - Q1\n",
    "lower_bound = Q1 - 1.5 * IQR\n",
    "upper_bound = Q3 + 1.5 * IQR\n",
    "\n",
    "# atasi outlier dengan mengganti nilai di luar batas dengan nilai batas\n",
    "df['Color.int'] = df['Color.int'].clip(lower=lower_bound, upper=upper_bound)"
   ]
  },
  {
   "cell_type": "code",
   "execution_count": 117,
   "id": "4327f57d",
   "metadata": {},
   "outputs": [],
   "source": [
    "# hitung nilai batas atas dan bawah\n",
    "Q1 = df['Hue'].quantile(0.25)\n",
    "Q3 = df['Hue'].quantile(0.75)\n",
    "IQR = Q3 - Q1\n",
    "lower_bound = Q1 - 1.5 * IQR\n",
    "upper_bound = Q3 + 1.5 * IQR\n",
    "\n",
    "# atasi outlier dengan mengganti nilai di luar batas dengan nilai batas\n",
    "df['Hue'] = df['Hue'].clip(lower=lower_bound, upper=upper_bound)"
   ]
  },
  {
   "cell_type": "code",
   "execution_count": 118,
   "id": "4751481d",
   "metadata": {},
   "outputs": [
    {
     "name": "stdout",
     "output_type": "stream",
     "text": [
      "Jumlah outlier pada tiap kolom:\n",
      "\n",
      "Wine                    0\n",
      "Alcohol                 0\n",
      "Malic.acid              0\n",
      "Ash                     0\n",
      "Acl                     0\n",
      "Mg                      0\n",
      "Phenols                 0\n",
      "Flavanoids              0\n",
      "Nonflavanoid.phenols    0\n",
      "Proanth                 0\n",
      "Color.int               0\n",
      "Hue                     0\n",
      "OD                      0\n",
      "Proline                 0\n",
      "dtype: int64\n"
     ]
    }
   ],
   "source": [
    "# Menentukan batas atas dan batas bawah menggunakan metode IQR\n",
    "Q1 = df.quantile(0.25)\n",
    "Q3 = df.quantile(0.75)\n",
    "IQR = Q3 - Q1\n",
    "lower_bound = Q1 - 1.5 * IQR\n",
    "upper_bound = Q3 + 1.5 * IQR\n",
    "\n",
    "# Menghitung jumlah outlier pada setiap kolom\n",
    "outlier_counts = ((df < lower_bound) | (df > upper_bound)).sum()\n",
    "\n",
    "print(\"Jumlah outlier pada tiap kolom:\\n\")\n",
    "print(outlier_counts)"
   ]
  },
  {
   "cell_type": "code",
   "execution_count": 119,
   "id": "84f912c4",
   "metadata": {},
   "outputs": [
    {
     "name": "stderr",
     "output_type": "stream",
     "text": [
      "C:\\Users\\USER\\anaconda3\\lib\\site-packages\\seaborn\\categorical.py:82: FutureWarning: iteritems is deprecated and will be removed in a future version. Use .items instead.\n",
      "  plot_data = [np.asarray(s, float) for k, s in iter_data]\n"
     ]
    },
    {
     "data": {
      "image/png": "[encoded data removed]",
      "text/plain": [
       "<Figure size 864x432 with 1 Axes>"
      ]
     },
     "metadata": {
      "needs_background": "light"
     },
     "output_type": "display_data"
    }
   ],
   "source": [
    "# VISUALISASI OUTLIER\n",
    "\n",
    "import seaborn as sns\n",
    "import matplotlib.pyplot as plt\n",
    "\n",
    "# Menentukan kolom numerik\n",
    "numeric_cols = df.select_dtypes(include='number').columns\n",
    "\n",
    "# Membuat boxplot untuk setiap kolom\n",
    "plt.figure(figsize=(12, 6))\n",
    "sns.boxplot(data=df[numeric_cols])\n",
    "plt.xticks(rotation=90)\n",
    "plt.title('Outlier pada Setiap Kolom')\n",
    "plt.show()"
   ]
  },
  {
   "cell_type": "markdown",
   "id": "206eb6cc",
   "metadata": {},
   "source": [
    "### Data Cleaning"
   ]
  },
  {
   "cell_type": "code",
   "execution_count": 120,
   "id": "f667c7d5",
   "metadata": {},
   "outputs": [
    {
     "data": {
      "text/html": [
       "<div>\n",
       "<style scoped>\n",
       "    .dataframe tbody tr th:only-of-type {\n",
       "        vertical-align: middle;\n",
       "    }\n",
       "\n",
       "    .dataframe tbody tr th {\n",
       "        vertical-align: top;\n",
       "    }\n",
       "\n",
       "    .dataframe thead th {\n",
       "        text-align: right;\n",
       "    }\n",
       "</style>\n",
       "<table border=\"1\" class=\"dataframe\">\n",
       "  <thead>\n",
       "    <tr style=\"text-align: right;\">\n",
       "      <th></th>\n",
       "      <th>Wine</th>\n",
       "      <th>Alcohol</th>\n",
       "      <th>Malic.acid</th>\n",
       "      <th>Ash</th>\n",
       "      <th>Acl</th>\n",
       "      <th>Mg</th>\n",
       "      <th>Phenols</th>\n",
       "      <th>Flavanoids</th>\n",
       "      <th>Nonflavanoid.phenols</th>\n",
       "      <th>Proanth</th>\n",
       "      <th>Color.int</th>\n",
       "      <th>Hue</th>\n",
       "      <th>OD</th>\n",
       "      <th>Proline</th>\n",
       "    </tr>\n",
       "  </thead>\n",
       "  <tbody>\n",
       "    <tr>\n",
       "      <th>count</th>\n",
       "      <td>178.000000</td>\n",
       "      <td>178.000000</td>\n",
       "      <td>178.000000</td>\n",
       "      <td>178.000000</td>\n",
       "      <td>178.000000</td>\n",
       "      <td>178.000000</td>\n",
       "      <td>178.000000</td>\n",
       "      <td>178.000000</td>\n",
       "      <td>178.000000</td>\n",
       "      <td>178.000000</td>\n",
       "      <td>178.000000</td>\n",
       "      <td>178.000000</td>\n",
       "      <td>178.000000</td>\n",
       "      <td>178.000000</td>\n",
       "    </tr>\n",
       "    <tr>\n",
       "      <th>mean</th>\n",
       "      <td>1.938202</td>\n",
       "      <td>13.000618</td>\n",
       "      <td>2.330435</td>\n",
       "      <td>2.366721</td>\n",
       "      <td>19.478090</td>\n",
       "      <td>99.483146</td>\n",
       "      <td>2.295112</td>\n",
       "      <td>2.029270</td>\n",
       "      <td>0.361854</td>\n",
       "      <td>1.586067</td>\n",
       "      <td>5.038146</td>\n",
       "      <td>0.956979</td>\n",
       "      <td>2.611685</td>\n",
       "      <td>746.893258</td>\n",
       "    </tr>\n",
       "    <tr>\n",
       "      <th>std</th>\n",
       "      <td>0.775035</td>\n",
       "      <td>0.811827</td>\n",
       "      <td>1.100173</td>\n",
       "      <td>0.263705</td>\n",
       "      <td>3.287757</td>\n",
       "      <td>13.414186</td>\n",
       "      <td>0.625851</td>\n",
       "      <td>0.998859</td>\n",
       "      <td>0.124453</td>\n",
       "      <td>0.558153</td>\n",
       "      <td>2.260881</td>\n",
       "      <td>0.227095</td>\n",
       "      <td>0.709990</td>\n",
       "      <td>314.907474</td>\n",
       "    </tr>\n",
       "    <tr>\n",
       "      <th>min</th>\n",
       "      <td>1.000000</td>\n",
       "      <td>11.030000</td>\n",
       "      <td>0.740000</td>\n",
       "      <td>1.688750</td>\n",
       "      <td>10.750000</td>\n",
       "      <td>70.000000</td>\n",
       "      <td>0.980000</td>\n",
       "      <td>0.340000</td>\n",
       "      <td>0.130000</td>\n",
       "      <td>0.410000</td>\n",
       "      <td>1.280000</td>\n",
       "      <td>0.480000</td>\n",
       "      <td>1.270000</td>\n",
       "      <td>278.000000</td>\n",
       "    </tr>\n",
       "    <tr>\n",
       "      <th>25%</th>\n",
       "      <td>1.000000</td>\n",
       "      <td>12.362500</td>\n",
       "      <td>1.602500</td>\n",
       "      <td>2.210000</td>\n",
       "      <td>17.200000</td>\n",
       "      <td>88.000000</td>\n",
       "      <td>1.742500</td>\n",
       "      <td>1.205000</td>\n",
       "      <td>0.270000</td>\n",
       "      <td>1.250000</td>\n",
       "      <td>3.220000</td>\n",
       "      <td>0.782500</td>\n",
       "      <td>1.937500</td>\n",
       "      <td>500.500000</td>\n",
       "    </tr>\n",
       "    <tr>\n",
       "      <th>50%</th>\n",
       "      <td>2.000000</td>\n",
       "      <td>13.050000</td>\n",
       "      <td>1.865000</td>\n",
       "      <td>2.360000</td>\n",
       "      <td>19.500000</td>\n",
       "      <td>98.000000</td>\n",
       "      <td>2.355000</td>\n",
       "      <td>2.135000</td>\n",
       "      <td>0.340000</td>\n",
       "      <td>1.555000</td>\n",
       "      <td>4.690000</td>\n",
       "      <td>0.965000</td>\n",
       "      <td>2.780000</td>\n",
       "      <td>673.500000</td>\n",
       "    </tr>\n",
       "    <tr>\n",
       "      <th>75%</th>\n",
       "      <td>3.000000</td>\n",
       "      <td>13.677500</td>\n",
       "      <td>3.082500</td>\n",
       "      <td>2.557500</td>\n",
       "      <td>21.500000</td>\n",
       "      <td>107.000000</td>\n",
       "      <td>2.800000</td>\n",
       "      <td>2.875000</td>\n",
       "      <td>0.437500</td>\n",
       "      <td>1.950000</td>\n",
       "      <td>6.200000</td>\n",
       "      <td>1.120000</td>\n",
       "      <td>3.170000</td>\n",
       "      <td>985.000000</td>\n",
       "    </tr>\n",
       "    <tr>\n",
       "      <th>max</th>\n",
       "      <td>3.000000</td>\n",
       "      <td>14.830000</td>\n",
       "      <td>5.302500</td>\n",
       "      <td>3.078750</td>\n",
       "      <td>27.950000</td>\n",
       "      <td>135.500000</td>\n",
       "      <td>3.880000</td>\n",
       "      <td>5.080000</td>\n",
       "      <td>0.660000</td>\n",
       "      <td>3.000000</td>\n",
       "      <td>10.670000</td>\n",
       "      <td>1.626250</td>\n",
       "      <td>4.000000</td>\n",
       "      <td>1680.000000</td>\n",
       "    </tr>\n",
       "  </tbody>\n",
       "</table>\n",
       "</div>"
      ],
      "text/plain": [
       "             Wine     Alcohol  Malic.acid         Ash         Acl          Mg  \\\n",
       "count  178.000000  178.000000  178.000000  178.000000  178.000000  178.000000   \n",
       "mean     1.938202   13.000618    2.330435    2.366721   19.478090   99.483146   \n",
       "std      0.775035    0.811827    1.100173    0.263705    3.287757   13.414186   \n",
       "min      1.000000   11.030000    0.740000    1.688750   10.750000   70.000000   \n",
       "25%      1.000000   12.362500    1.602500    2.210000   17.200000   88.000000   \n",
       "50%      2.000000   13.050000    1.865000    2.360000   19.500000   98.000000   \n",
       "75%      3.000000   13.677500    3.082500    2.557500   21.500000  107.000000   \n",
       "max      3.000000   14.830000    5.302500    3.078750   27.950000  135.500000   \n",
       "\n",
       "          Phenols  Flavanoids  Nonflavanoid.phenols     Proanth   Color.int  \\\n",
       "count  178.000000  178.000000            178.000000  178.000000  178.000000   \n",
       "mean     2.295112    2.029270              0.361854    1.586067    5.038146   \n",
       "std      0.625851    0.998859              0.124453    0.558153    2.260881   \n",
       "min      0.980000    0.340000              0.130000    0.410000    1.280000   \n",
       "25%      1.742500    1.205000              0.270000    1.250000    3.220000   \n",
       "50%      2.355000    2.135000              0.340000    1.555000    4.690000   \n",
       "75%      2.800000    2.875000              0.437500    1.950000    6.200000   \n",
       "max      3.880000    5.080000              0.660000    3.000000   10.670000   \n",
       "\n",
       "              Hue          OD      Proline  \n",
       "count  178.000000  178.000000   178.000000  \n",
       "mean     0.956979    2.611685   746.893258  \n",
       "std      0.227095    0.709990   314.907474  \n",
       "min      0.480000    1.270000   278.000000  \n",
       "25%      0.782500    1.937500   500.500000  \n",
       "50%      0.965000    2.780000   673.500000  \n",
       "75%      1.120000    3.170000   985.000000  \n",
       "max      1.626250    4.000000  1680.000000  "
      ]
     },
     "execution_count": 120,
     "metadata": {},
     "output_type": "execute_result"
    }
   ],
   "source": [
    "df.describe()"
   ]
  },
  {
   "cell_type": "markdown",
   "id": "78c323ef",
   "metadata": {},
   "source": [
    "##### **_Pemeriksaan Distribusi Normal_**"
   ]
  },
  {
   "cell_type": "code",
   "execution_count": 121,
   "id": "e544c292",
   "metadata": {},
   "outputs": [
    {
     "data": {
      "image/png": "[encoded data removed]",
      "text/plain": [
       "<Figure size 1080x1080 with 16 Axes>"
      ]
     },
     "metadata": {
      "needs_background": "light"
     },
     "output_type": "display_data"
    }
   ],
   "source": [
    "df.hist(figsize=(15,15))\n",
    "plt.show()"
   ]
  },
  {
   "cell_type": "code",
   "execution_count": 122,
   "id": "e52d43b8",
   "metadata": {},
   "outputs": [
    {
     "name": "stdout",
     "output_type": "stream",
     "text": [
      "Kolom 'Wine': Tidak Normal (p-value: 3.526998097335039e-14)\n",
      "Kolom 'Alcohol': Tidak Normal (p-value: 0.020050711929798126)\n",
      "Kolom 'Malic.acid': Tidak Normal (p-value: 3.345727306314217e-10)\n",
      "Kolom 'Ash': Normal (p-value: 0.21574634313583374)\n",
      "Kolom 'Acl': Normal (p-value: 0.32146334648132324)\n",
      "Kolom 'Mg': Tidak Normal (p-value: 5.3234733059071004e-05)\n",
      "Kolom 'Phenols': Tidak Normal (p-value: 0.0043947165831923485)\n",
      "Kolom 'Flavanoids': Tidak Normal (p-value: 1.6790636436780915e-05)\n",
      "Kolom 'Nonflavanoid.phenols': Tidak Normal (p-value: 0.00010552681487752125)\n",
      "Kolom 'Proanth': Tidak Normal (p-value: 0.03207767382264137)\n",
      "Kolom 'Color.int': Tidak Normal (p-value: 1.0879900855798041e-06)\n",
      "Kolom 'Hue': Tidak Normal (p-value: 0.021750720217823982)\n",
      "Kolom 'OD': Tidak Normal (p-value: 2.315865231139469e-06)\n",
      "Kolom 'Proline': Tidak Normal (p-value: 1.7412214958767436e-07)\n"
     ]
    }
   ],
   "source": [
    "from scipy.stats import shapiro\n",
    "\n",
    "# Loop melalui setiap kolom\n",
    "for column in df.columns:\n",
    "    # Melakukan uji Shapiro-Wilk\n",
    "    stat, p_value = shapiro(df[column])\n",
    "    \n",
    "    # Menentukan apakah berdistribusi normal atau tidak\n",
    "    alpha = 0.05  # Tingkat signifikansi yang umum\n",
    "    if p_value > alpha:\n",
    "        distribution = 'Normal'\n",
    "    else:\n",
    "        distribution = 'Tidak Normal'\n",
    "    \n",
    "    # Menampilkan hasil\n",
    "    print(f\"Kolom '{column}': {distribution} (p-value: {p_value})\")"
   ]
  },
  {
   "cell_type": "markdown",
   "id": "1beb3c66",
   "metadata": {},
   "source": [
    "##### **_Normalisasi Data_**"
   ]
  },
  {
   "cell_type": "code",
   "execution_count": 123,
   "id": "cf9e283c",
   "metadata": {},
   "outputs": [
    {
     "name": "stdout",
     "output_type": "stream",
     "text": [
      "     Alcohol  Malic.acid    Ash    Acl     Mg  Phenols  Flavanoids  \\\n",
      "0     0.1423     0.17100  0.243  0.156  0.127    0.280       0.306   \n",
      "1     0.1320     0.17800  0.214  0.112  0.100    0.265       0.276   \n",
      "2     0.1316     0.23600  0.267  0.186  0.101    0.280       0.324   \n",
      "3     0.1437     0.19500  0.250  0.168  0.113    0.385       0.349   \n",
      "4     0.1324     0.25900  0.287  0.210  0.118    0.280       0.269   \n",
      "..       ...         ...    ...    ...    ...      ...         ...   \n",
      "173   0.1371     0.53025  0.245  0.205  0.095    0.168       0.061   \n",
      "174   0.1340     0.39100  0.248  0.230  0.102    0.180       0.075   \n",
      "175   0.1327     0.42800  0.226  0.200  0.120    0.159       0.069   \n",
      "176   0.1317     0.25900  0.237  0.200  0.120    0.165       0.068   \n",
      "177   0.1413     0.41000  0.274  0.245  0.096    0.205       0.076   \n",
      "\n",
      "     Nonflavanoid.phenols  Proanth  Color.int    Hue     OD  Proline  Wine  \n",
      "0                    0.28    0.229     0.0564  0.104  0.392   0.1065     1  \n",
      "1                    0.26    0.128     0.0438  0.105  0.340   0.1050     1  \n",
      "2                    0.30    0.281     0.0568  0.103  0.317   0.1185     1  \n",
      "3                    0.24    0.218     0.0780  0.086  0.345   0.1480     1  \n",
      "4                    0.39    0.182     0.0432  0.104  0.293   0.0735     1  \n",
      "..                    ...      ...        ...    ...    ...      ...   ...  \n",
      "173                  0.52    0.106     0.0770  0.064  0.174   0.0740     3  \n",
      "174                  0.43    0.141     0.0730  0.070  0.156   0.0750     3  \n",
      "175                  0.43    0.135     0.1020  0.059  0.156   0.0835     3  \n",
      "176                  0.53    0.146     0.0930  0.060  0.162   0.0840     3  \n",
      "177                  0.56    0.135     0.0920  0.061  0.160   0.0560     3  \n",
      "\n",
      "[178 rows x 14 columns]\n"
     ]
    },
    {
     "name": "stderr",
     "output_type": "stream",
     "text": [
      "C:\\Users\\USER\\anaconda3\\lib\\site-packages\\numpy\\core\\fromnumeric.py:85: FutureWarning: In a future version, DataFrame.max(axis=None) will return a scalar max over the entire DataFrame. To retain the old behavior, use 'frame.max(axis=0)' or just 'frame.max()'\n",
      "  return reduction(axis=axis, out=out, **passkwargs)\n"
     ]
    }
   ],
   "source": [
    "import numpy as np\n",
    "\n",
    "# Mendapatkan nilai maksimum untuk setiap kolom kecuali kolom \"Wine\"\n",
    "max_values = np.max(np.abs(df.drop(\"Wine\", axis=1)))\n",
    "\n",
    "# Lakukan normalisasi menggunakan Decimal Scaling untuk setiap kolom kecuali kolom \"Wine\"\n",
    "data_normalized = df.drop(\"Wine\", axis=1) / (10 ** np.ceil(np.log10(max_values)))\n",
    "\n",
    "# Gabungkan kembali kolom \"Wine\" dengan data yang telah dinormalisasi\n",
    "data_normalized = pd.concat([data_normalized, df[\"Wine\"]], axis=1)\n",
    "\n",
    "# Tampilkan data yang telah dinormalisasi\n",
    "print(data_normalized)"
   ]
  },
  {
   "cell_type": "code",
   "execution_count": 124,
   "id": "5ec54881",
   "metadata": {},
   "outputs": [
    {
     "name": "stdout",
     "output_type": "stream",
     "text": [
      "2    71\n",
      "1    59\n",
      "3    48\n",
      "Name: Wine, dtype: int64\n"
     ]
    }
   ],
   "source": [
    "# mencari tahu value sample pada kolom target\n",
    "jumlah_sample = data_normalized['Wine'].value_counts()\n",
    "\n",
    "# Menampilkan hasil\n",
    "print(jumlah_sample)"
   ]
  },
  {
   "cell_type": "code",
   "execution_count": 125,
   "id": "0a36e860",
   "metadata": {},
   "outputs": [
    {
     "data": {
      "text/plain": [
       "Alcohol                 float64\n",
       "Malic.acid              float64\n",
       "Ash                     float64\n",
       "Acl                     float64\n",
       "Mg                      float64\n",
       "Phenols                 float64\n",
       "Flavanoids              float64\n",
       "Nonflavanoid.phenols    float64\n",
       "Proanth                 float64\n",
       "Color.int               float64\n",
       "Hue                     float64\n",
       "OD                      float64\n",
       "Proline                 float64\n",
       "Wine                      int64\n",
       "dtype: object"
      ]
     },
     "execution_count": 125,
     "metadata": {},
     "output_type": "execute_result"
    }
   ],
   "source": [
    "data_normalized.dtypes"
   ]
  },
  {
   "cell_type": "code",
   "execution_count": 126,
   "id": "0168c357",
   "metadata": {},
   "outputs": [
    {
     "data": {
      "text/plain": [
       "Alcohol                 0\n",
       "Malic.acid              0\n",
       "Ash                     0\n",
       "Acl                     0\n",
       "Mg                      0\n",
       "Phenols                 0\n",
       "Flavanoids              0\n",
       "Nonflavanoid.phenols    0\n",
       "Proanth                 0\n",
       "Color.int               0\n",
       "Hue                     0\n",
       "OD                      0\n",
       "Proline                 0\n",
       "Wine                    0\n",
       "dtype: int64"
      ]
     },
     "execution_count": 126,
     "metadata": {},
     "output_type": "execute_result"
    }
   ],
   "source": [
    "data_normalized.isnull().sum()"
   ]
  },
  {
   "cell_type": "code",
   "execution_count": 127,
   "id": "7e8aebeb",
   "metadata": {},
   "outputs": [
    {
     "data": {
      "image/png": "[encoded data removed]",
      "text/plain": [
       "<Figure size 432x288 with 1 Axes>"
      ]
     },
     "metadata": {},
     "output_type": "display_data"
    }
   ],
   "source": [
    "# Hitung jumlah setiap kelas dalam dataset\n",
    "kelas_count = df['Wine'].value_counts()\n",
    "\n",
    "# Buat diagram pie\n",
    "fig, ax = plt.subplots()\n",
    "ax.pie(kelas_count.values, labels=kelas_count.index, autopct='%1.1f%%', startangle=90)\n",
    "ax.axis('equal')\n",
    "ax.set_title('Proporsi Kelas dalam Dataset Wine')\n",
    "plt.show()"
   ]
  },
  {
   "cell_type": "markdown",
   "id": "2f046d7d",
   "metadata": {},
   "source": [
    "### Data Splitting"
   ]
  },
  {
   "cell_type": "markdown",
   "id": "3d39a31a",
   "metadata": {},
   "source": [
    "##### **_Membagi Data_**"
   ]
  },
  {
   "cell_type": "code",
   "execution_count": 128,
   "id": "cfebded2",
   "metadata": {},
   "outputs": [
    {
     "name": "stdout",
     "output_type": "stream",
     "text": [
      "Jumlah data pada data latih (training data): 142\n",
      "Jumlah data pada data uji (test data): 36\n"
     ]
    }
   ],
   "source": [
    "from sklearn.model_selection import train_test_split\n",
    "import pandas as pd\n",
    "\n",
    "# Memisahkan fitur (X) dan target (y)\n",
    "X = data_normalized.drop('Wine', axis=1)  \n",
    "y = data_normalized['Wine']\n",
    "\n",
    "# Memisahkan data menjadi data latih dan data uji\n",
    "X_train, X_test, y_train, y_test = train_test_split(X, y, test_size=0.2, random_state=42)\n",
    "\n",
    "# Menampilkan jumlah data pada setiap subset\n",
    "print(\"Jumlah data pada data latih (training data):\", len(X_train))\n",
    "print(\"Jumlah data pada data uji (test data):\", len(X_test))"
   ]
  },
  {
   "cell_type": "markdown",
   "id": "e5b38d68",
   "metadata": {},
   "source": [
    "### Data Modelling dan Evaluation"
   ]
  },
  {
   "cell_type": "markdown",
   "id": "6c4fa25a",
   "metadata": {},
   "source": [
    "### **Naive Bayes**"
   ]
  },
  {
   "cell_type": "code",
   "execution_count": 129,
   "id": "52db152e",
   "metadata": {},
   "outputs": [],
   "source": [
    "from sklearn.naive_bayes import GaussianNB\n",
    "\n",
    "# Buat sebuah instance dari klasifikasi Gaussian Naive Bayes\n",
    "gnb = GaussianNB()\n",
    "\n",
    "# Latih klasifikator menggunakan data latih\n",
    "gnb.fit(X_train, y_train)\n",
    "\n",
    "# Lakukan prediksi pada data uji\n",
    "y_pred = gnb.predict(X_test)"
   ]
  },
  {
   "cell_type": "code",
   "execution_count": 130,
   "id": "6e69ac90",
   "metadata": {},
   "outputs": [
    {
     "name": "stdout",
     "output_type": "stream",
     "text": [
      "Akurasi model Naive Bayes: 100.00\n"
     ]
    }
   ],
   "source": [
    "# Menghitung akurasi\n",
    "accuracy = accuracy_score(y_test, y_pred)\n",
    "print(\"Akurasi model Naive Bayes: {:.2f}\".format(accuracy * 100))"
   ]
  },
  {
   "cell_type": "code",
   "execution_count": 131,
   "id": "cb23d371",
   "metadata": {},
   "outputs": [
    {
     "name": "stdout",
     "output_type": "stream",
     "text": [
      "              precision    recall  f1-score   support\n",
      "\n",
      "           1       1.00      1.00      1.00        14\n",
      "           2       1.00      1.00      1.00        14\n",
      "           3       1.00      1.00      1.00         8\n",
      "\n",
      "    accuracy                           1.00        36\n",
      "   macro avg       1.00      1.00      1.00        36\n",
      "weighted avg       1.00      1.00      1.00        36\n",
      "\n"
     ]
    }
   ],
   "source": [
    "from sklearn.metrics import classification_report\n",
    "print(classification_report(y_test, y_pred))"
   ]
  },
  {
   "cell_type": "code",
   "execution_count": 132,
   "id": "57eaa2ce",
   "metadata": {},
   "outputs": [
    {
     "name": "stdout",
     "output_type": "stream",
     "text": [
      "Performa pada data training: 97.1830985915493 %\n",
      "Performa pada data testing: 100.0 %\n"
     ]
    }
   ],
   "source": [
    "from sklearn.metrics import accuracy_score\n",
    "\n",
    "# Prediksi pada data pelatihan\n",
    "y_pred_train = gnb.predict(X_train)\n",
    "accuracy_train = accuracy_score(y_train, y_pred_train)\n",
    "\n",
    "# Prediksi pada data testing\n",
    "y_pred_test = gnb.predict(X_test)\n",
    "accuracy_test = accuracy_score(y_test, y_pred_test)\n",
    "\n",
    "# Persentase performa pada data pelatihan dan data testing\n",
    "percentage_train = accuracy_train * 100\n",
    "percentage_test = accuracy_test * 100\n",
    "\n",
    "print(\"Performa pada data training:\", percentage_train, \"%\")\n",
    "print(\"Performa pada data testing:\", percentage_test, \"%\")"
   ]
  },
  {
   "cell_type": "code",
   "execution_count": 144,
   "id": "33fdae45",
   "metadata": {},
   "outputs": [
    {
     "name": "stdout",
     "output_type": "stream",
     "text": [
      "Jumlah data yang salah:  4\n"
     ]
    }
   ],
   "source": [
    "total_data_latih = 142\n",
    "akurasi = 0.9718\n",
    "\n",
    "jumlah_data_salah = total_data_latih * (1 - akurasi)\n",
    "print(\"Jumlah data yang salah: \", int(jumlah_data_salah))"
   ]
  },
  {
   "cell_type": "markdown",
   "id": "6f38547c",
   "metadata": {},
   "source": [
    "### **K-Nearest Neighbors**"
   ]
  },
  {
   "cell_type": "code",
   "execution_count": 133,
   "id": "16fbbd59",
   "metadata": {},
   "outputs": [
    {
     "name": "stdout",
     "output_type": "stream",
     "text": [
      "Akurasi dengan K = 3: 88.89%\n",
      "Akurasi dengan K = 5: 88.89%\n",
      "Akurasi dengan K = 7: 88.89%\n",
      "Akurasi dengan K = 9: 83.33%\n"
     ]
    },
    {
     "name": "stderr",
     "output_type": "stream",
     "text": [
      "C:\\Users\\USER\\anaconda3\\lib\\site-packages\\sklearn\\neighbors\\_classification.py:189: FutureWarning: Unlike other reduction functions (e.g. `skew`, `kurtosis`), the default behavior of `mode` typically preserves the axis it acts along. In SciPy 1.11.0, this behavior will change: the default value of `keepdims` will become False, the `axis` over which the statistic is taken will be eliminated, and the value None will no longer be accepted. Set `keepdims` to True or False to avoid this warning.\n",
      "  mode, _ = stats.mode(_y[neigh_ind, k], axis=1)\n",
      "C:\\Users\\USER\\anaconda3\\lib\\site-packages\\sklearn\\neighbors\\_classification.py:189: FutureWarning: Unlike other reduction functions (e.g. `skew`, `kurtosis`), the default behavior of `mode` typically preserves the axis it acts along. In SciPy 1.11.0, this behavior will change: the default value of `keepdims` will become False, the `axis` over which the statistic is taken will be eliminated, and the value None will no longer be accepted. Set `keepdims` to True or False to avoid this warning.\n",
      "  mode, _ = stats.mode(_y[neigh_ind, k], axis=1)\n",
      "C:\\Users\\USER\\anaconda3\\lib\\site-packages\\sklearn\\neighbors\\_classification.py:189: FutureWarning: Unlike other reduction functions (e.g. `skew`, `kurtosis`), the default behavior of `mode` typically preserves the axis it acts along. In SciPy 1.11.0, this behavior will change: the default value of `keepdims` will become False, the `axis` over which the statistic is taken will be eliminated, and the value None will no longer be accepted. Set `keepdims` to True or False to avoid this warning.\n",
      "  mode, _ = stats.mode(_y[neigh_ind, k], axis=1)\n",
      "C:\\Users\\USER\\anaconda3\\lib\\site-packages\\sklearn\\neighbors\\_classification.py:189: FutureWarning: Unlike other reduction functions (e.g. `skew`, `kurtosis`), the default behavior of `mode` typically preserves the axis it acts along. In SciPy 1.11.0, this behavior will change: the default value of `keepdims` will become False, the `axis` over which the statistic is taken will be eliminated, and the value None will no longer be accepted. Set `keepdims` to True or False to avoid this warning.\n",
      "  mode, _ = stats.mode(_y[neigh_ind, k], axis=1)\n"
     ]
    }
   ],
   "source": [
    "from sklearn.neighbors import KNeighborsClassifier\n",
    "from sklearn.model_selection import train_test_split\n",
    "from sklearn.metrics import accuracy_score\n",
    "\n",
    "# Menentukan nilai K yang akan diuji\n",
    "k_values = [3, 5, 7, 9]\n",
    "\n",
    "for k in k_values:\n",
    "    # Membuat objek KNN Classifier dengan nilai K\n",
    "    knn = KNeighborsClassifier(n_neighbors=k)\n",
    "\n",
    "    # Melatih model menggunakan data latih\n",
    "    knn.fit(X_train, y_train)\n",
    "\n",
    "    # Melakukan prediksi pada data uji\n",
    "    y_pred = knn.predict(X_test)\n",
    "\n",
    "    # Menghitung akurasi model\n",
    "    accuracy = accuracy_score(y_test, y_pred)\n",
    "    print(\"Akurasi dengan K = {}: {:.2f}%\".format(k, accuracy * 100))"
   ]
  },
  {
   "cell_type": "code",
   "execution_count": 137,
   "id": "858cab62",
   "metadata": {},
   "outputs": [
    {
     "name": "stdout",
     "output_type": "stream",
     "text": [
      "Akurasi: 88.89%\n"
     ]
    },
    {
     "name": "stderr",
     "output_type": "stream",
     "text": [
      "C:\\Users\\USER\\anaconda3\\lib\\site-packages\\sklearn\\neighbors\\_classification.py:189: FutureWarning: Unlike other reduction functions (e.g. `skew`, `kurtosis`), the default behavior of `mode` typically preserves the axis it acts along. In SciPy 1.11.0, this behavior will change: the default value of `keepdims` will become False, the `axis` over which the statistic is taken will be eliminated, and the value None will no longer be accepted. Set `keepdims` to True or False to avoid this warning.\n",
      "  mode, _ = stats.mode(_y[neigh_ind, k], axis=1)\n"
     ]
    }
   ],
   "source": [
    "from sklearn.neighbors import KNeighborsClassifier\n",
    "from sklearn.model_selection import train_test_split\n",
    "from sklearn.metrics import accuracy_score\n",
    "\n",
    "# Membuat objek KNN Classifier dengan nilai K=5\n",
    "knn = KNeighborsClassifier(n_neighbors=5)\n",
    "\n",
    "# Melatih model menggunakan data latih\n",
    "knn.fit(X_train, y_train)\n",
    "\n",
    "# Melakukan prediksi pada data uji\n",
    "y_pred = knn.predict(X_test)\n",
    "\n",
    "# Menghitung akurasi model\n",
    "accuracy = accuracy_score(y_test, y_pred)\n",
    "print(\"Akurasi: {:.2f}%\".format(accuracy * 100))"
   ]
  },
  {
   "cell_type": "code",
   "execution_count": 138,
   "id": "01ace412",
   "metadata": {},
   "outputs": [
    {
     "name": "stdout",
     "output_type": "stream",
     "text": [
      "              precision    recall  f1-score   support\n",
      "\n",
      "           1       0.82      1.00      0.90        14\n",
      "           2       1.00      0.71      0.83        14\n",
      "           3       0.89      1.00      0.94         8\n",
      "\n",
      "    accuracy                           0.89        36\n",
      "   macro avg       0.90      0.90      0.89        36\n",
      "weighted avg       0.91      0.89      0.88        36\n",
      "\n"
     ]
    }
   ],
   "source": [
    "from sklearn.metrics import classification_report\n",
    "print(classification_report(y_test, y_pred))"
   ]
  },
  {
   "cell_type": "code",
   "execution_count": 139,
   "id": "da9e8639",
   "metadata": {},
   "outputs": [
    {
     "name": "stdout",
     "output_type": "stream",
     "text": [
      "Performa pada data training: 91.54929577464789 %\n",
      "Performa pada data testing: 88.88888888888889 %\n"
     ]
    },
    {
     "name": "stderr",
     "output_type": "stream",
     "text": [
      "C:\\Users\\USER\\anaconda3\\lib\\site-packages\\sklearn\\neighbors\\_classification.py:189: FutureWarning: Unlike other reduction functions (e.g. `skew`, `kurtosis`), the default behavior of `mode` typically preserves the axis it acts along. In SciPy 1.11.0, this behavior will change: the default value of `keepdims` will become False, the `axis` over which the statistic is taken will be eliminated, and the value None will no longer be accepted. Set `keepdims` to True or False to avoid this warning.\n",
      "  mode, _ = stats.mode(_y[neigh_ind, k], axis=1)\n",
      "C:\\Users\\USER\\anaconda3\\lib\\site-packages\\sklearn\\neighbors\\_classification.py:189: FutureWarning: Unlike other reduction functions (e.g. `skew`, `kurtosis`), the default behavior of `mode` typically preserves the axis it acts along. In SciPy 1.11.0, this behavior will change: the default value of `keepdims` will become False, the `axis` over which the statistic is taken will be eliminated, and the value None will no longer be accepted. Set `keepdims` to True or False to avoid this warning.\n",
      "  mode, _ = stats.mode(_y[neigh_ind, k], axis=1)\n"
     ]
    }
   ],
   "source": [
    "from sklearn.metrics import accuracy_score\n",
    "\n",
    "# Prediksi pada data pelatihan\n",
    "y_pred_train = knn.predict(X_train)\n",
    "accuracy_train = accuracy_score(y_train, y_pred_train)\n",
    "\n",
    "# Prediksi pada data testing\n",
    "y_pred_test = knn.predict(X_test)\n",
    "accuracy_test = accuracy_score(y_test, y_pred_test)\n",
    "\n",
    "# Persentase performa pada data pelatihan dan data testing\n",
    "percentage_train = accuracy_train * 100\n",
    "percentage_test = accuracy_test * 100\n",
    "\n",
    "print(\"Performa pada data training:\", percentage_train, \"%\")\n",
    "print(\"Performa pada data testing:\", percentage_test, \"%\")"
   ]
  },
  {
   "cell_type": "code",
   "execution_count": 141,
   "id": "51553291",
   "metadata": {},
   "outputs": [
    {
     "name": "stdout",
     "output_type": "stream",
     "text": [
      "Jumlah data yang salah:  3\n"
     ]
    }
   ],
   "source": [
    "total_data_uji = 36\n",
    "akurasi = 0.8889\n",
    "\n",
    "jumlah_data_salah = total_data_uji * (1 - akurasi)\n",
    "print(\"Jumlah data yang salah: \", int(jumlah_data_salah))"
   ]
  },
  {
   "cell_type": "code",
   "execution_count": 142,
   "id": "9dc3b9d1",
   "metadata": {},
   "outputs": [
    {
     "name": "stdout",
     "output_type": "stream",
     "text": [
      "Jumlah data yang salah:  12\n"
     ]
    }
   ],
   "source": [
    "total_data_latih = 142\n",
    "akurasi = 0.9154\n",
    "\n",
    "jumlah_data_salah = total_data_latih * (1 - akurasi)\n",
    "print(\"Jumlah data yang salah: \", int(jumlah_data_salah))"
   ]
  },
  {
   "cell_type": "markdown",
   "id": "7ca0f11d",
   "metadata": {},
   "source": [
    "# **LET'S SAY ALHAMDULILLAH TABAROKALLAH MASYA ALLAHHHH ALLAHUAKBAR KITA BISA BISA BISA**"
   ]
  },
  {
   "cell_type": "code",
   "execution_count": null,
   "id": "3c7faaa2",
   "metadata": {},
   "outputs": [],
   "source": []
  }
 ],
 "metadata": {
  "kernelspec": {
   "display_name": "Python 3",
   "language": "python",
   "name": "python3"
  },
  "language_info": {
   "codemirror_mode": {
    "name": "ipython",
    "version": 3
   },
   "file_extension": ".py",
   "mimetype": "text/x-python",
   "name": "python",
   "nbconvert_exporter": "python",
   "pygments_lexer": "ipython3",
   "version": "3.8.8"
  }
 },
 "nbformat": 4,
 "nbformat_minor": 5
}
