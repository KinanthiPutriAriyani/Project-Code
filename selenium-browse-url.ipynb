{
 "cells": [
  {
   "cell_type": "code",
   "execution_count": 5,
   "id": "aa5933d0-925a-4781-843b-bf53142b7efb",
   "metadata": {},
   "outputs": [
    {
     "name": "stderr",
     "output_type": "stream",
     "text": [
      "<ipython-input-5-d63ed064d155>:8: DeprecationWarning: executable_path has been deprecated, please pass in a Service object\n",
      "  driver = webdriver.Chrome(ChromeDriverManager().install(), chrome_options=chrome_options)\n",
      "<ipython-input-5-d63ed064d155>:8: DeprecationWarning: use options instead of chrome_options\n",
      "  driver = webdriver.Chrome(ChromeDriverManager().install(), chrome_options=chrome_options)\n",
      "usage: ipykernel_launcher.py [-h] [-i INFILE] [-o OUTFILE]\n",
      "ipykernel_launcher.py: error: unrecognized arguments: -f C:\\Users\\LENOVO\\AppData\\Roaming\\jupyter\\runtime\\kernel-57189abc-8d06-4084-91af-9bf898c9b467.json\n"
     ]
    },
    {
     "ename": "SystemExit",
     "evalue": "2",
     "output_type": "error",
     "traceback": [
      "An exception has occurred, use %tb to see the full traceback.\n",
      "\u001b[1;31mSystemExit\u001b[0m\u001b[1;31m:\u001b[0m 2\n"
     ]
    }
   ],
   "source": [
    "from selenium import webdriver\n",
    "import sys, getopt\n",
    "import argparse\n",
    "from webdriver_manager.chrome import ChromeDriverManager\n",
    "\n",
    "chrome_options = webdriver.ChromeOptions()\n",
    "chrome_options.add_argument(\"--headless\")\n",
    "driver = webdriver.Chrome(ChromeDriverManager().install(), chrome_options=chrome_options)\n",
    "full_text=[]\n",
    "\n",
    "def parse_args():\n",
    "    parser = argparse.ArgumentParser()\n",
    "    parser.add_argument('-i', '--infile', default='', help='input filename')\n",
    "    parser.add_argument('-o', '--outfile', default='', help='output filename')\n",
    "    return parser.parse_args()\n",
    "\n",
    "def main():\n",
    "    args = parse_args()\n",
    "    outfile = args.outfile\n",
    "    infile = args.infile\n",
    "    \n",
    "    with open(infile) as f:\n",
    "        content = f.read().splitlines()\n",
    "    f.close()\n",
    "    \n",
    "    f = open(outfile, \"w\")\n",
    "    for u in content:\n",
    "        driver.get(u)\n",
    "        elems = driver.find_element_by_tag_name('body').text\n",
    "        full_text.append(elems)\n",
    "    print(full_text)\n",
    "    \n",
    "    f.write(str(full_text))\n",
    "    \n",
    "    # print(full_text)\n",
    "    driver.close()\n",
    "    f.close()\n",
    "main()"
   ]
  },
  {
   "cell_type": "code",
   "execution_count": 1,
   "id": "cf994f3d-e51c-43f7-b97a-bc0ecfc9f1df",
   "metadata": {},
   "outputs": [
    {
     "name": "stderr",
     "output_type": "stream",
     "text": [
      "selenium-browse-url.py:8: DeprecationWarning: executable_path has been deprecated, please pass in a Service object\n",
      "  driver = webdriver.Chrome(ChromeDriverManager().install(), chrome_options=chrome_options)\n",
      "selenium-browse-url.py:8: DeprecationWarning: use options instead of chrome_options\n",
      "  driver = webdriver.Chrome(ChromeDriverManager().install(), chrome_options=chrome_options)\n",
      "Traceback (most recent call last):\n",
      "  File \"selenium-browse-url.py\", line 38, in <module>\n",
      "    main()\n",
      "  File \"selenium-browse-url.py\", line 28, in main\n",
      "    driver.get(u)\n",
      "  File \"C:\\Users\\LENOVO\\anaconda3\\lib\\site-packages\\selenium\\webdriver\\remote\\webdriver.py\", line 449, in get\n",
      "    self.execute(Command.GET, {\"url\": url})\n",
      "  File \"C:\\Users\\LENOVO\\anaconda3\\lib\\site-packages\\selenium\\webdriver\\remote\\webdriver.py\", line 440, in execute\n",
      "    self.error_handler.check_response(response)\n",
      "  File \"C:\\Users\\LENOVO\\anaconda3\\lib\\site-packages\\selenium\\webdriver\\remote\\errorhandler.py\", line 245, in check_response\n",
      "    raise exception_class(message, screen, stacktrace)\n",
      "selenium.common.exceptions.InvalidArgumentException: Message: invalid argument\n",
      "  (Session info: headless chrome=110.0.5481.104)\n",
      "Stacktrace:\n",
      "Backtrace:\n",
      "\t(No symbol) [0x00A337D3]\n",
      "\t(No symbol) [0x009C8B81]\n",
      "\t(No symbol) [0x008CB230]\n",
      "\t(No symbol) [0x008BD8AB]\n",
      "\t(No symbol) [0x008BBEA7]\n",
      "\t(No symbol) [0x008BC518]\n",
      "\t(No symbol) [0x008CCF4C]\n",
      "\t(No symbol) [0x00931E01]\n",
      "\t(No symbol) [0x0091B41C]\n",
      "\t(No symbol) [0x00931215]\n",
      "\t(No symbol) [0x0091B216]\n",
      "\t(No symbol) [0x008F0D97]\n",
      "\t(No symbol) [0x008F253D]\n",
      "\tGetHandleVerifier [0x00CAABF2+2510930]\n",
      "\tGetHandleVerifier [0x00CD8EC1+2700065]\n",
      "\tGetHandleVerifier [0x00CDC86C+2714828]\n",
      "\tGetHandleVerifier [0x00AE3480+645344]\n",
      "\t(No symbol) [0x009D0FD2]\n",
      "\t(No symbol) [0x009D6C68]\n",
      "\t(No symbol) [0x009D6D4B]\n",
      "\t(No symbol) [0x009E0D6B]\n",
      "\tBaseThreadInitThunk [0x75AD7D69+25]\n",
      "\tRtlInitializeExceptionChain [0x7741BB9B+107]\n",
      "\tRtlClearBits [0x7741BB1F+191]\n",
      "\n"
     ]
    }
   ],
   "source": [
    "!python selenium-browse-url.py -i hasil-search.txt -o hasil-browse.txt"
   ]
  },
  {
   "cell_type": "code",
   "execution_count": null,
   "id": "58ceaa07-00a6-41b7-84de-8f9c0ff58056",
   "metadata": {},
   "outputs": [],
   "source": []
  }
 ],
 "metadata": {
  "kernelspec": {
   "display_name": "Python 3",
   "language": "python",
   "name": "python3"
  },
  "language_info": {
   "codemirror_mode": {
    "name": "ipython",
    "version": 3
   },
   "file_extension": ".py",
   "mimetype": "text/x-python",
   "name": "python",
   "nbconvert_exporter": "python",
   "pygments_lexer": "ipython3",
   "version": "3.8.8"
  }
 },
 "nbformat": 4,
 "nbformat_minor": 5
}
